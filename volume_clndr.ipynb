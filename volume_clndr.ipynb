{
 "cells": [
  {
   "cell_type": "code",
   "execution_count": null,
   "metadata": {},
   "outputs": [],
   "source": [
    "import math"
   ]
  },
  {
   "cell_type": "markdown",
   "metadata": {},
   "source": [
    "Объем цилиндра равен:\n",
    "\n",
    "V=π r2 h"
   ]
  },
  {
   "cell_type": "markdown",
   "metadata": {},
   "source": [
    "d = float(input(\"диаметр? \\n\"))\n",
    "h = float(input(\"высота? \\n\"))\n",
    "r = d/2\n",
    "pi = math.pi\n",
    "Vol_clndr = pi * r**2 * h\n",
    "print(Vol_clndr)"
   ]
  },
  {
   "cell_type": "code",
   "execution_count": null,
   "metadata": {
    "scrolled": true
   },
   "outputs": [],
   "source": [
    "def di():\n",
    "    d = float(input(\"диаметр? \\n\"))\n",
    "    h = float(input(\"высота? \\n\"))\n",
    "    r = d/2\n",
    "    pi = math.pi\n",
    "    Vol_clndr = pi * r**2 * h\n",
    "    #print(\"объём внутренего цилиндра, в мм кубических: \\n\")\n",
    "    return(Vol_clndr)"
   ]
  },
  {
   "cell_type": "code",
   "execution_count": null,
   "metadata": {},
   "outputs": [],
   "source": [
    "def do():\n",
    "    d = float(input(\"диаметр? \\n\"))\n",
    "    k = 1.15\n",
    "    d = d*k\n",
    "    h = float(input(\"высота? \\n\"))\n",
    "    r = d/2\n",
    "    pi = math.pi\n",
    "    Vol_clndr = pi * r**2 * h\n",
    "    #print(\"объём внешнего цилиндра, в мм кубических: \\n\")\n",
    "    return(Vol_clndr)"
   ]
  },
  {
   "cell_type": "code",
   "execution_count": null,
   "metadata": {},
   "outputs": [],
   "source": [
    "k = 0.001 # перевод из мм куб в см куб\n",
    "v = (do()-di())*k\n",
    "print(v)"
   ]
  }
 ],
 "metadata": {
  "kernelspec": {
   "display_name": "Python 3",
   "language": "python",
   "name": "python3"
  },
  "language_info": {
   "codemirror_mode": {
    "name": "ipython",
    "version": 3
   },
   "file_extension": ".py",
   "mimetype": "text/x-python",
   "name": "python",
   "nbconvert_exporter": "python",
   "pygments_lexer": "ipython3",
   "version": "3.6.5"
  }
 },
 "nbformat": 4,
 "nbformat_minor": 2
}
