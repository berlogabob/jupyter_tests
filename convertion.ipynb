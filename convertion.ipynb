{
 "cells": [
  {
   "cell_type": "markdown",
   "metadata": {},
   "source": [
    "Масса через плотность и объем, формула\n",
    "Масса тела выражается через плотность и объем следующей формулой: Масса тела — есть произведение плотности вещества из которого состоит тело на его объем.\n",
    "\n",
    "\tm= ρV\n",
    "Здесь:\n",
    "V — объем тела (м³),\n",
    "m — масса тела, (килограмм),\n",
    "ρ — плотность вещества, (кг/м³).\n",
    "\n",
    "\n",
    "1 г/см3 = 1000 кг/м3"
   ]
  },
  {
   "cell_type": "markdown",
   "metadata": {},
   "source": [
    "# Плотности материалов:\n",
    "аллюминий 2.6989 г/см³ ro_al\n",
    "\n",
    "сталь 7.9 г/см³\n",
    "\n",
    "0.008 g/mm^3 сталь"
   ]
  },
  {
   "cell_type": "markdown",
   "metadata": {},
   "source": [
    "volume:\n",
    "in 1 mm^3 there are 0.000000001 m^3"
   ]
  },
  {
   "cell_type": "code",
   "execution_count": 33,
   "metadata": {
    "collapsed": true
   },
   "outputs": [],
   "source": [
    "ro = [[\"ro_al\", \"ro_steel\"],[2.6989]]"
   ]
  },
  {
   "cell_type": "code",
   "execution_count": 34,
   "metadata": {
    "collapsed": true
   },
   "outputs": [],
   "source": [
    "user_inp_volume = 0\n",
    "user_inp_density = 0"
   ]
  },
  {
   "cell_type": "code",
   "execution_count": 40,
   "metadata": {},
   "outputs": [],
   "source": [
    "def qwstn():\n",
    "    global user_inp_volume\n",
    "    global user_inp_density\n",
    "    user_inp_volume = raw_input(\"enter volume in mm^3\\n-> \")\n",
    "    user_inp_density = raw_input(\"enter density in г/см^3\\n-> \")\n",
    "    \"\"\"if user_inp_density in ro:\n",
    "        print \"user_inp_density in list ro\"\n",
    "    else:\n",
    "        print \"value is not in list\"\n",
    "    return user_inp_volume, user_inp_density\"\"\"\n",
    "    \n",
    "    \n",
    "    \"\"\"for p in ro:\n",
    "        print (p if user_inp_density in p else \"not in list\")\"\"\"\n",
    "    \n",
    "    if user_inp_density in ro:\n",
    "        print ro\n",
    "    else:\n",
    "        print \"not in list\"\n",
    "    print ro\n",
    "    print user_inp_density\n",
    "    print type(user_inp_density)\n",
    "    #print type(float(user_inp_density))"
   ]
  },
  {
   "cell_type": "code",
   "execution_count": 36,
   "metadata": {
    "collapsed": true
   },
   "outputs": [],
   "source": [
    "def g_sm_to_kg_m():\n",
    "# 1 г/см3 = 1000 кг/м3\n",
    "    kg_m_user_inp_density = user_inp_density * 1000\n",
    "    return kg_m_user_inp_density"
   ]
  },
  {
   "cell_type": "code",
   "execution_count": 39,
   "metadata": {
    "scrolled": false
   },
   "outputs": [
    {
     "name": "stdout",
     "output_type": "stream",
     "text": [
      "enter volume in mm^3\n",
      "-> 3\n",
      "enter density in г/см^3\n",
      "-> ro_al\n",
      "not in list\n",
      "[['ro_al', 'ro_steel'], [2.6989]]\n",
      "ro_al\n"
     ]
    },
    {
     "ename": "ValueError",
     "evalue": "could not convert string to float: ro_al",
     "output_type": "error",
     "traceback": [
      "\u001b[0;31m---------------------------------------------------------------------------\u001b[0m",
      "\u001b[0;31mValueError\u001b[0m                                Traceback (most recent call last)",
      "\u001b[0;32m<ipython-input-39-990de83782f4>\u001b[0m in \u001b[0;36m<module>\u001b[0;34m()\u001b[0m\n\u001b[0;32m----> 1\u001b[0;31m \u001b[0mqwstn\u001b[0m\u001b[0;34m(\u001b[0m\u001b[0;34m)\u001b[0m\u001b[0;34m\u001b[0m\u001b[0m\n\u001b[0m\u001b[1;32m      2\u001b[0m \u001b[0;31m#g_sm_to_kg_m()\u001b[0m\u001b[0;34m\u001b[0m\u001b[0;34m\u001b[0m\u001b[0m\n",
      "\u001b[0;32m<ipython-input-38-5ba85cb38002>\u001b[0m in \u001b[0;36mqwstn\u001b[0;34m()\u001b[0m\n\u001b[1;32m     21\u001b[0m     \u001b[0;32mprint\u001b[0m \u001b[0muser_inp_density\u001b[0m\u001b[0;34m\u001b[0m\u001b[0m\n\u001b[1;32m     22\u001b[0m     \u001b[0;31m#print type(user_inp_density)\u001b[0m\u001b[0;34m\u001b[0m\u001b[0;34m\u001b[0m\u001b[0m\n\u001b[0;32m---> 23\u001b[0;31m     \u001b[0;32mprint\u001b[0m \u001b[0mtype\u001b[0m\u001b[0;34m(\u001b[0m\u001b[0mfloat\u001b[0m\u001b[0;34m(\u001b[0m\u001b[0muser_inp_density\u001b[0m\u001b[0;34m)\u001b[0m\u001b[0;34m)\u001b[0m\u001b[0;34m\u001b[0m\u001b[0m\n\u001b[0m",
      "\u001b[0;31mValueError\u001b[0m: could not convert string to float: ro_al"
     ]
    }
   ],
   "source": [
    "qwstn()\n",
    "#g_sm_to_kg_m()"
   ]
  }
 ],
 "metadata": {
  "kernelspec": {
   "display_name": "Python 2",
   "language": "python",
   "name": "python2"
  },
  "language_info": {
   "codemirror_mode": {
    "name": "ipython",
    "version": 2
   },
   "file_extension": ".py",
   "mimetype": "text/x-python",
   "name": "python",
   "nbconvert_exporter": "python",
   "pygments_lexer": "ipython2",
   "version": "2.7.14"
  }
 },
 "nbformat": 4,
 "nbformat_minor": 2
}
