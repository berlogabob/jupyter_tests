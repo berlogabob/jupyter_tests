{
 "cells": [
  {
   "cell_type": "code",
   "execution_count": 1,
   "metadata": {},
   "outputs": [
    {
     "name": "stdout",
     "output_type": "stream",
     "text": [
      "110.5404719 68.6211066 67.3685376\n"
     ]
    }
   ],
   "source": [
    "x=95.897*1.1527\n",
    "y=59.973*1.1442\n",
    "z=56.784*1.1864\n",
    "\n",
    "print x, y, z"
   ]
  },
  {
   "cell_type": "code",
   "execution_count": 1,
   "metadata": {},
   "outputs": [
    {
     "data": {
      "text/plain": [
       "104900.0"
      ]
     },
     "execution_count": 1,
     "metadata": {},
     "output_type": "execute_result"
    }
   ],
   "source": [
    "1.049E+05"
   ]
  },
  {
   "cell_type": "markdown",
   "metadata": {
    "collapsed": true
   },
   "source": [
    "- KF0420S1H, Вентилятор 12В, 40х40х20мм, подшипник скольжения\n",
    " - Артикул: KF0420S1H\n",
    " - Ном. номер: 9000029413\n",
    " - Производитель: Jamicon\n",
    "- FG-40/M (SM7240A), Решетка для вентилятора 40х40мм\n",
    " - Артикул: FG-40/M (SM7240A)\n",
    " - PartNumber: FG-40/M\n",
    " - Ном. номер: 12665\n",
    " - Производитель: Evercool"
   ]
  }
 ],
 "metadata": {
  "kernelspec": {
   "display_name": "Python 2",
   "language": "python",
   "name": "python2"
  },
  "language_info": {
   "codemirror_mode": {
    "name": "ipython",
    "version": 2
   },
   "file_extension": ".py",
   "mimetype": "text/x-python",
   "name": "python",
   "nbconvert_exporter": "python",
   "pygments_lexer": "ipython2",
   "version": "2.7.13"
  }
 },
 "nbformat": 4,
 "nbformat_minor": 2
}
