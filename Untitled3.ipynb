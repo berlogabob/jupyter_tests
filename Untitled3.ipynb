{
 "cells": [
  {
   "cell_type": "code",
   "execution_count": 2,
   "metadata": {},
   "outputs": [
    {
     "name": "stdout",
     "output_type": "stream",
     "text": [
      "100 \t 110.00000000000001\n",
      "110.00000000000001 \t 121.00000000000003\n",
      "121.00000000000003 \t 133.10000000000005\n",
      "133.10000000000005 \t 146.41000000000008\n",
      "146.41000000000008 \t 161.0510000000001\n",
      "161.0510000000001 \t 177.15610000000012\n",
      "177.15610000000012 \t 194.87171000000015\n"
     ]
    }
   ],
   "source": [
    "q = 100\n",
    "k = 1.1\n",
    "for i in range(1,8):\n",
    "    s = q*k\n",
    "    print (q,\"\\t\", s)\n",
    "    q = s"
   ]
  },
  {
   "cell_type": "code",
   "execution_count": null,
   "metadata": {
    "collapsed": true
   },
   "outputs": [],
   "source": []
  },
  {
   "cell_type": "code",
   "execution_count": 4,
   "metadata": {},
   "outputs": [
    {
     "name": "stdout",
     "output_type": "stream",
     "text": [
      "194.87171000000012\n"
     ]
    }
   ],
   "source": [
    "print (100*1.1**7)"
   ]
  },
  {
   "cell_type": "code",
   "execution_count": 29,
   "metadata": {},
   "outputs": [
    {
     "data": {
      "text/plain": [
       "32720.0"
      ]
     },
     "execution_count": 29,
     "metadata": {},
     "output_type": "execute_result"
    }
   ],
   "source": [
    "3.272E+04"
   ]
  }
 ],
 "metadata": {
  "kernelspec": {
   "display_name": "Python 3",
   "language": "python",
   "name": "python3"
  },
  "language_info": {
   "codemirror_mode": {
    "name": "ipython",
    "version": 3
   },
   "file_extension": ".py",
   "mimetype": "text/x-python",
   "name": "python",
   "nbconvert_exporter": "python",
   "pygments_lexer": "ipython3",
   "version": "3.6.6"
  }
 },
 "nbformat": 4,
 "nbformat_minor": 2
}
