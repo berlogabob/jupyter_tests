{
 "cells": [
  {
   "cell_type": "code",
   "execution_count": 3,
   "metadata": {
    "collapsed": true
   },
   "outputs": [],
   "source": [
    "lenght_of_segment_mm = 25\n",
    "qty_of_segments_on_1_strip = 15\n",
    "qty_of_strips = 12\n",
    "watt_per_metr = 14.4\n",
    "#\n",
    "lenght_of_segment_m = lenght_of_segment_mm/1000\n",
    "metrov = lenght_of_segment_m * qty_of_segments_on_1_strip * qty_of_strips\n"
   ]
  },
  {
   "cell_type": "code",
   "execution_count": 6,
   "metadata": {
    "collapsed": true
   },
   "outputs": [],
   "source": [
    "all_power = watt_per_metr * metrov"
   ]
  },
  {
   "cell_type": "code",
   "execution_count": 7,
   "metadata": {},
   "outputs": [
    {
     "name": "stdout",
     "output_type": "stream",
     "text": [
      "4.5 метров требует  64.8 ватт\n"
     ]
    }
   ],
   "source": [
    "print (metrov, \"метров требует \", all_power, \"ватт\")"
   ]
  },
  {
   "cell_type": "code",
   "execution_count": null,
   "metadata": {
    "collapsed": true
   },
   "outputs": [],
   "source": []
  }
 ],
 "metadata": {
  "kernelspec": {
   "display_name": "Python 3",
   "language": "python",
   "name": "python3"
  },
  "language_info": {
   "codemirror_mode": {
    "name": "ipython",
    "version": 3
   },
   "file_extension": ".py",
   "mimetype": "text/x-python",
   "name": "python",
   "nbconvert_exporter": "python",
   "pygments_lexer": "ipython3",
   "version": "3.6.3"
  }
 },
 "nbformat": 4,
 "nbformat_minor": 2
}
